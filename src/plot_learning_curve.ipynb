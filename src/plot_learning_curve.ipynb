{
 "cells": [
  {
   "cell_type": "code",
   "execution_count": null,
   "id": "1870c584",
   "metadata": {},
   "outputs": [
    {
     "name": "stdout",
     "output_type": "stream",
     "text": [
      "latest='C:/Users/maksb/Desktop/car-racing-rl/data/generations\\\\20250611_125344'\n"
     ]
    },
    {
     "ename": "",
     "evalue": "",
     "output_type": "error",
     "traceback": [
      "\u001b[1;31mThe Kernel crashed while executing code in the current cell or a previous cell. \n",
      "\u001b[1;31mPlease review the code in the cell(s) to identify a possible cause of the failure. \n",
      "\u001b[1;31mClick <a href='https://aka.ms/vscodeJupyterKernelCrash'>here</a> for more info. \n",
      "\u001b[1;31mView Jupyter <a href='command:jupyter.viewOutput'>log</a> for further details."
     ]
    }
   ],
   "source": [
    "# In a Jupyter notebook cell:\n",
    "\n",
    "import glob\n",
    "import json\n",
    "import numpy as np\n",
    "import matplotlib.pyplot as plt\n",
    "\n",
    "# 1) Locate the latest run folder\n",
    "folders = sorted(glob.glob(\"C:/Users/maksb/Desktop/car-racing-rl/data/generations/*\"))\n",
    "latest = folders[-1]\n",
    "print(f\"{latest=}\")\n",
    "\n",
    "# 2) Load fitness history\n",
    "with open(f\"{latest}/fitness_history.json\", \"r\") as f:\n",
    "     history = json.load(f)\n",
    "\n",
    "gens = [h[\"generation\"] for h in history]\n",
    "maxs = [h[\"max\"]        for h in history]\n",
    "means= [h[\"mean\"]       for h in history]\n",
    "mins = [h[\"min\"]        for h in history]\n",
    "\n",
    "# 3) Plot\n",
    "plt.plot(gens, maxs,  label=\"Max fitness\")\n",
    "plt.plot(gens, means, label=\"Mean fitness\")\n",
    "plt.plot(gens, mins,  label=\"Min fitness\")\n",
    "plt.xlabel(\"Generation\")\n",
    "plt.ylabel(\"Fitness\")\n",
    "plt.title(f\"Learning Curve: {latest.split('/')[-1]}\")\n",
    "plt.legend()\n",
    "plt.grid(True)\n",
    "plt.show()\n"
   ]
  }
 ],
 "metadata": {
  "kernelspec": {
   "display_name": "venv",
   "language": "python",
   "name": "python3"
  },
  "language_info": {
   "codemirror_mode": {
    "name": "ipython",
    "version": 3
   },
   "file_extension": ".py",
   "mimetype": "text/x-python",
   "name": "python",
   "nbconvert_exporter": "python",
   "pygments_lexer": "ipython3",
   "version": "3.13.3"
  }
 },
 "nbformat": 4,
 "nbformat_minor": 5
}
